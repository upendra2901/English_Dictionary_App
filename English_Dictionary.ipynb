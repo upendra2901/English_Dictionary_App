{
  "nbformat": 4,
  "nbformat_minor": 0,
  "metadata": {
    "colab": {
      "provenance": []
    },
    "kernelspec": {
      "name": "python3",
      "display_name": "Python 3"
    },
    "language_info": {
      "name": "python"
    }
  },
  "cells": [
    {
      "cell_type": "markdown",
      "source": [
        "##  The aim of this project is to create an English Dictionary app that returns definitions of English words. When the application is started, it displays a menu as follows:\n",
        "\n",
        "## Main Menu\n",
        "### Add a new word\n",
        "### Find the meaning\n",
        "### Update a word\n",
        "### Exit\n",
        "### Enter Choice:\n",
        "### If item 1 is selected, it should prompt for a word and then accept its meaning. This pair of word and its meaning should be stored in a file called ‘words.txt’. When item 2 is selected, it should prompt for a word, search that word in the file ‘words.txt’ and return the meaning if it is found. If the meaning is not found, it should display an appropriate message. Similarly, when choice 3 is entered, it should accept a word and update its meaning. In all the above three cases, the prompt should return to the main menu. The words and their meanings should be stored as a dictionary in words.txt, using the concept of serialization. If choice 4 is selected, a graceful exit should be performed."
      ],
      "metadata": {
        "id": "MUSZudSR-28X"
      }
    },
    {
      "cell_type": "code",
      "source": [
        "import json\n",
        "def insert_word():\n",
        "    a = input('Enter word :')\n",
        "    b = input('Enter the meaning of word :')\n",
        "    c = {a:b}\n",
        "    json_str = json.dumps(c)\n",
        "    f = open('words.txt','a')\n",
        "    f.write(json_str+'\\n')\n",
        "    print('word added')\n",
        "    f.close()\n",
        "\n",
        "def search_meaning():\n",
        "    a = input('Enter word :')\n",
        "    f = open('words.txt','r')\n",
        "    d = dict()\n",
        "    for line in f:\n",
        "        data = json.loads(line)\n",
        "        d.update(data)\n",
        "    try:\n",
        "        print('The meaning for entered word ',a,' is :',d[a])\n",
        "    except KeyError :\n",
        "        print('Word not found')\n",
        "\n",
        "def update_word():\n",
        "    a = input('Enter word :')\n",
        "    f = open('words.txt','r')\n",
        "    d = dict()\n",
        "    for line in f:\n",
        "        data = json.loads(line)\n",
        "        d.update(data)\n",
        "    f.close()\n",
        "    if a in d:\n",
        "        b = input('Enter the meaning of word :')\n",
        "        d[a]=b\n",
        "        json_str = json.dumps(d)\n",
        "        f1 = open('words.txt','w')\n",
        "        f1.write(json_str+'\\n')\n",
        "        print('word updated')\n",
        "        f1.close()\n",
        "    else:\n",
        "        print('word not found')\n",
        "\n",
        "while True:\n",
        "    print('1 : Add new word')\n",
        "    print('2 : Find the meaning')\n",
        "    print('3 : Update a word')\n",
        "    print('4 : Exit')\n",
        "    choice = input('Enter your choice: ')\n",
        "\n",
        "    if choice =='1':\n",
        "        insert_word()\n",
        "\n",
        "    elif choice =='2':\n",
        "        search_meaning()\n",
        "\n",
        "    elif choice =='3':\n",
        "        update_word()\n",
        "\n",
        "    elif choice =='4':\n",
        "        print(\"Exiting program.\")\n",
        "        break\n",
        "\n",
        "    else:\n",
        "        print('Entered invalid choice. Enter choice from 1 to 4')\n",
        ""
      ],
      "metadata": {
        "id": "v8DKNup--3wZ"
      },
      "execution_count": null,
      "outputs": []
    }
  ]
}